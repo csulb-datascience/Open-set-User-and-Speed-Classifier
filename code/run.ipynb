{
 "cells": [
  {
   "cell_type": "code",
   "execution_count": null,
   "metadata": {},
   "outputs": [],
   "source": [
    "from model_class import *\n",
    "from modelUtils import *\n",
    "from config import Config\n",
    "os.environ['CUDA_VISIBLE_DEVICES'] = '0'\n",
    "os.environ['CUDA_LAUNCH_BLOCKING'] = '1'\n",
    "device = torch.device('cuda:0' if torch.cuda.is_available else 'cpu')"
   ]
  },
  {
   "cell_type": "code",
   "execution_count": null,
   "metadata": {},
   "outputs": [],
   "source": [
    "## Gather and clean data\n",
    "\n",
    "import pickle\n",
    "with open('data_lr.pkl', 'rb') as file:\n",
    "    dataset, personID, speedID = pickle.load(file)\n",
    "print(len(dataset), len(personID), len(speedID))\n"
   ]
  },
  {
   "cell_type": "code",
   "execution_count": null,
   "metadata": {},
   "outputs": [],
   "source": [
    "N_SELECT = 100\n",
    "batch_size = 16\n",
    "num_workers = 4\n",
    "N_P_CLASS_KTEST = 4"
   ]
  },
  {
   "cell_type": "code",
   "execution_count": null,
   "metadata": {},
   "outputs": [],
   "source": [
    "### Train open set user identification model\n",
    "for i in range(1):\n",
    "    (x_train, y1_train, y2_train), (x_ktest, y1_ktest, y2_ktest), (x_utest, y1_utest, y2_utest) = split_dataset(dataset, personID, speedID)\n",
    "    (x_train_small, y1_train_small, y2_train_small), (x_train_large, y1_train_large, y2_train_large) = split_small_large_set(x_train, y1_train, y2_train, N_SELECT)\n",
    "    (x_ktest_small, y1_ktest_small, y2_ktest_small), (x_ktest_large, y1_ktest_large, y2_ktest_large) = split_small_large_set(x_ktest, y1_ktest, y2_ktest, N_SELECT)\n",
    "    (x_utest_small, y1_utest_small, y2_utest_small), (x_utest_large, y1_utest_large, y2_utest_large) = split_small_large_set(x_utest, y1_utest, y2_utest, 200)\n",
    "    x_ktest_large_ = torch.cat((x_ktest_large, x_utest_large), dim = 0)\n",
    "    y1_ktest_large_ = torch.cat((y1_ktest_large, torch.full(y1_utest_large.shape, 4)), dim = 0)\n",
    "    \n",
    "    opt = Config()\n",
    "    NUM_CLASSES = 7\n",
    "    \n",
    "    torch.cuda.empty_cache()\n",
    "    models = Ensemble()\n",
    "    print('Training started')\n",
    "    file_name = 'model_user'\n",
    "    data = model_train_eval(model, opt, NUM_CLASSES, file_name, x_train_large, y1_train_large, x_ktest_small, y1_ktest_small, x_ktest_large_, y1_ktest_large_)\n",
    "    print('Training ended')"
   ]
  },
  {
   "cell_type": "code",
   "execution_count": null,
   "metadata": {},
   "outputs": [],
   "source": [
    "### Train speed identification model\n",
    "for i in range(1):\n",
    "    (x_train, y1_train, y2_train), (x_ktest, y1_ktest, y2_ktest), (x_utest, y1_utest, y2_utest) = split_dataset(dataset, personID, speedID)\n",
    "    (x_train_small, y1_train_small, y2_train_small), (x_train_large, y1_train_large, y2_train_large) = split_small_large_set(x_train, y1_train, y2_train, N_SELECT)\n",
    "    (x_ktest_small, y1_ktest_small, y2_ktest_small), (x_ktest_large, y1_ktest_large, y2_ktest_large) = split_small_large_set(x_ktest, y1_ktest, y2_ktest, N_SELECT)\n",
    "    (x_utest_small, y1_utest_small, y2_utest_small), (x_utest_large, y1_utest_large, y2_utest_large) = split_small_large_set(x_utest, y1_utest, y2_utest, 200)\n",
    "    x_ktest_large_ = torch.cat((x_ktest_large, x_utest_large), dim = 0)\n",
    "    y1_ktest_large_ = torch.cat((y1_ktest_large, torch.full(y1_utest_large.shape, 4)), dim = 0)\n",
    "    \n",
    "    opt = Config()\n",
    "    NUM_CLASSES = 5\n",
    "    \n",
    "    torch.cuda.empty_cache()\n",
    "    models = Ensemble()\n",
    "    print('Training started')\n",
    "    file_name = 'model_speed'\n",
    "    data = model_train_eval(model, opt, NUM_CLASSES, file_name, x_train_large, y2_train_large, x_ktest_small, y2_ktest_small, x_ktest_large_, y2_ktest_large_)\n",
    "    print('Training ended')"
   ]
  },
  {
   "cell_type": "code",
   "execution_count": 23,
   "metadata": {},
   "outputs": [],
   "source": [
    "### Import saved user model\n",
    "import pickle\n",
    "import torch\n",
    "with open('ModelN/model_user.pkl','rb') as f:\n",
    "    data = pickle.load(f)\n",
    "model = data[0]\n",
    "model.eval()\n",
    "    "
   ]
  },
  {
   "cell_type": "code",
   "execution_count": null,
   "metadata": {},
   "outputs": [],
   "source": [
    "### Evaluate saved model\n",
    "(x_train, y1_train, y2_train), (x_ktest, y1_ktest, y2_ktest), (x_utest, y1_utest, y2_utest) = split_dataset(dataset, personID, speedID)\n",
    "(x_train_small, y1_train_small, y2_train_small), (x_train_large, y1_train_large, y2_train_large) = split_small_large_set(x_train, y1_train, y2_train, N_SELECT)\n",
    "(x_ktest_small, y1_ktest_small, y2_ktest_small), (x_ktest_large, y1_ktest_large, y2_ktest_large) = split_small_large_set(x_ktest, y1_ktest, y2_ktest, N_SELECT)\n",
    "(x_utest_small, y1_utest_small, y2_utest_small), (x_utest_large, y1_utest_large, y2_utest_large) = split_small_large_set(x_utest, y1_utest, y2_utest, 200)\n",
    "y1 = torch.cat((y1_ktest_large, y1_utest_large+4))\n",
    "x = torch.cat((x_ktest_large, x_utest_large))\n",
    "y2 = torch.cat((y2_ktest_large, y2_utest_large+4))\n",
    "\n",
    "model_eval_speed(model, x, y2)\n",
    "model_eval_user(model, x, y1)"
   ]
  }
 ],
 "metadata": {
  "kernelspec": {
   "display_name": "regression",
   "language": "python",
   "name": "python3"
  },
  "language_info": {
   "codemirror_mode": {
    "name": "ipython",
    "version": 3
   },
   "file_extension": ".py",
   "mimetype": "text/x-python",
   "name": "python",
   "nbconvert_exporter": "python",
   "pygments_lexer": "ipython3",
   "version": "3.7.13"
  },
  "orig_nbformat": 4,
  "vscode": {
   "interpreter": {
    "hash": "5af0325b06bc13d8c2c28e94d042e0608fd79f4d5c3ad95194a47088d18b019d"
   }
  }
 },
 "nbformat": 4,
 "nbformat_minor": 2
}
